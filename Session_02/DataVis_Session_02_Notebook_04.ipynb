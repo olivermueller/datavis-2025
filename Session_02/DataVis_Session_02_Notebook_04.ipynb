{
  "cells": [
    {
      "cell_type": "markdown",
      "metadata": {},
      "source": [
        "# Data Vis: Visualizing Numerical and Categorical Data\n",
        "* Notebook 1: Visualizing Proportions"
      ]
    },
    {
      "cell_type": "markdown",
      "metadata": {},
      "source": [
        "## Setup"
      ]
    },
    {
      "cell_type": "code",
      "execution_count": null,
      "metadata": {
        "id": "A2HU3DQvDaBR"
      },
      "outputs": [],
      "source": [
        "import pandas as pd\n",
        "import numpy as np\n",
        "from matplotlib import pyplot as plt\n",
        "import squarify\n",
        "import seaborn as sns"
      ]
    },
    {
      "cell_type": "markdown",
      "metadata": {},
      "source": [
        "## Data"
      ]
    },
    {
      "cell_type": "markdown",
      "metadata": {},
      "source": [
        "In this notebook, we will use the NYC Flights 2013 dataset, which contains information about all domestic flights that departed from NYC in 2013. The dataset includes the following tables:\n",
        "- `flights`: Contains information about each flight, including the origin and destination airports, departure and arrival times, and delays.\n",
        "- `planes`: Contains information about the planes, including their tail numbers and model years.\n",
        "- `airports`: Contains information about the airports, including their names and locations.\n",
        "- `airlines`: Contains information about the airlines, including their names and IATA codes.\n",
        "- `weather`: Contains information about the weather at the origin airports, including temperature, wind speed, and precipitation."
      ]
    },
    {
      "cell_type": "code",
      "execution_count": null,
      "metadata": {},
      "outputs": [],
      "source": [
        "data = pd.read_csv('flights_joined.csv')"
      ]
    },
    {
      "cell_type": "code",
      "execution_count": null,
      "metadata": {},
      "outputs": [],
      "source": [
        "data.shape"
      ]
    },
    {
      "cell_type": "code",
      "execution_count": null,
      "metadata": {},
      "outputs": [],
      "source": [
        "data.head()"
      ]
    },
    {
      "cell_type": "markdown",
      "metadata": {},
      "source": [
        "## Treemap"
      ]
    },
    {
      "cell_type": "markdown",
      "metadata": {},
      "source": [
        "A treemap is a fancy way to visualize proportions. It is a hierarchical visualization that uses (nested) rectangles to represent the proportions of different categories within a dataset. The size of each rectangle is proportional to the value it represents, and the color can be used to represent another variable. Unfortunately, seaborn does not have a built-in treemap function, but we can use the `squarify` library to create one (it uses `matplotlib` in the background). "
      ]
    },
    {
      "cell_type": "markdown",
      "metadata": {},
      "source": [
        "But before we can create a treemap, we need to aggregate the data (in this case by `origin`)."
      ]
    },
    {
      "cell_type": "code",
      "execution_count": null,
      "metadata": {},
      "outputs": [],
      "source": [
        "data_grouped = data.groupby('origin').size().reset_index(name='num_flights')\n",
        "data_grouped.head()"
      ]
    },
    {
      "cell_type": "markdown",
      "metadata": {},
      "source": [
        "Now we can use the `squarify` library to create a treemap. The `squarify` library requires the following parameters:\n",
        "- `sizes`: A list of the sizes of each rectangle (in this case, the number of flights from each origin).\n",
        "- `label`: A list of the labels for each rectangle (in this case, the origin airport codes).\n",
        "- `color`: A list of colors for each rectangle (in this case, the number of origin airports)."
      ]
    },
    {
      "cell_type": "code",
      "execution_count": null,
      "metadata": {},
      "outputs": [],
      "source": [
        "plt.figure(figsize=(16, 9))\n",
        "squarify.plot(sizes=data_grouped['num_flights'], label=data_grouped['origin'],\n",
        "  color=sns.color_palette('viridis', n_colors=len(data_grouped['origin'])),\n",
        "  text_kwargs={'color': 'white', 'fontweight': 'bold', 'fontsize':12})\n",
        "plt.axis('off')\n",
        "plt.title('Treemap of Number of Flights by Origin')\n",
        "plt.show()\n"
      ]
    },
    {
      "cell_type": "markdown",
      "metadata": {},
      "source": [
        "`squarify` does not support nested treemaps. Have a look at `plotly` for a more advanced interactive treemap visualizations: https://plotly.com/python/treemaps/"
      ]
    },
    {
      "cell_type": "markdown",
      "metadata": {},
      "source": [
        "Now it's your turn. Create a heatmap of different part-whole relationship in the dataset..."
      ]
    },
    {
      "cell_type": "code",
      "execution_count": null,
      "metadata": {},
      "outputs": [],
      "source": [
        "# YOUR CODE HERE"
      ]
    }
  ],
  "metadata": {
    "colab": {
      "provenance": []
    },
    "kernelspec": {
      "display_name": "datavis",
      "language": "python",
      "name": "python3"
    },
    "language_info": {
      "codemirror_mode": {
        "name": "ipython",
        "version": 3
      },
      "file_extension": ".py",
      "mimetype": "text/x-python",
      "name": "python",
      "nbconvert_exporter": "python",
      "pygments_lexer": "ipython3",
      "version": "3.12.9"
    }
  },
  "nbformat": 4,
  "nbformat_minor": 0
}
