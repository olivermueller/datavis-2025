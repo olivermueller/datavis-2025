{
  "cells": [
    {
      "cell_type": "markdown",
      "metadata": {},
      "source": [
        "# Data Vis: Visualizing Numerical and Categorical Data\n",
        "* Notebook 1: Data Preparation"
      ]
    },
    {
      "cell_type": "markdown",
      "metadata": {},
      "source": [
        "## Setup"
      ]
    },
    {
      "cell_type": "code",
      "execution_count": null,
      "metadata": {
        "id": "A2HU3DQvDaBR"
      },
      "outputs": [],
      "source": [
        "import pandas as pd\n",
        "import numpy as np\n",
        "import missingno as msno"
      ]
    },
    {
      "cell_type": "markdown",
      "metadata": {},
      "source": [
        "# Data"
      ]
    },
    {
      "cell_type": "markdown",
      "metadata": {},
      "source": [
        "In this notebook, we will use the NYC Flights 2013 dataset, which contains information about all domestic flights that departed from NYC in 2013. The dataset includes the following tables:\n",
        "- `flights`: Contains information about each flight, including the origin and destination airports, departure and arrival times, and delays.\n",
        "- `planes`: Contains information about the planes, including their tail numbers and model years.\n",
        "- `airports`: Contains information about the airports, including their names and locations.\n",
        "- `airlines`: Contains information about the airlines, including their names and IATA codes.\n",
        "- `weather`: Contains information about the weather at the origin airports, including temperature, wind speed, and precipitation."
      ]
    },
    {
      "cell_type": "markdown",
      "metadata": {},
      "source": [
        "The dataset is available in the `nycflights13` package."
      ]
    },
    {
      "cell_type": "code",
      "execution_count": null,
      "metadata": {},
      "outputs": [],
      "source": [
        "from nycflights13 import flights\n",
        "from nycflights13 import planes\n",
        "from nycflights13 import airports\n",
        "from nycflights13 import airlines\n",
        "from nycflights13 import weather"
      ]
    },
    {
      "cell_type": "markdown",
      "metadata": {},
      "source": [
        "Let's first look at the main table, that is, `flights`."
      ]
    },
    {
      "cell_type": "code",
      "execution_count": null,
      "metadata": {},
      "outputs": [],
      "source": [
        "flights.head()"
      ]
    },
    {
      "cell_type": "markdown",
      "metadata": {},
      "source": [
        "Next, we will explore the `planes` table. We rename the `year` column to avoid naming conflicts when joining the tables with others."
      ]
    },
    {
      "cell_type": "code",
      "execution_count": null,
      "metadata": {},
      "outputs": [],
      "source": [
        "planes.rename(columns={'year': 'year_built'}, inplace=True)\n",
        "planes"
      ]
    },
    {
      "cell_type": "markdown",
      "metadata": {},
      "source": [
        "We do the same for the `airports`, `airlines`, and `weather` tables."
      ]
    },
    {
      "cell_type": "code",
      "execution_count": null,
      "metadata": {},
      "outputs": [],
      "source": [
        "airports.rename(columns={'name': 'airport_name'}, inplace=True)\n",
        "airports.head()"
      ]
    },
    {
      "cell_type": "code",
      "execution_count": null,
      "metadata": {},
      "outputs": [],
      "source": [
        "airlines.rename(columns={'name': 'airline_name'}, inplace=True)\n",
        "airlines.head()"
      ]
    },
    {
      "cell_type": "code",
      "execution_count": null,
      "metadata": {},
      "outputs": [],
      "source": [
        "weather.drop(columns=['time_hour'], inplace=True)\n",
        "weather.head()"
      ]
    },
    {
      "cell_type": "markdown",
      "metadata": {},
      "source": [
        "Let's now join the tables together. We use `left joins`, indicate the columns to join on (both in the left and right tables), and specify the suffixes for the columns with naming conflicts."
      ]
    },
    {
      "cell_type": "code",
      "execution_count": null,
      "metadata": {},
      "outputs": [],
      "source": [
        "flights_joined = flights.merge(airlines, how='left', on='carrier')\n",
        "flights_joined = flights_joined.merge(planes, how='left', on='tailnum', suffixes=('', '_plane'))\n",
        "flights_joined = flights_joined.merge(airports, how='left', left_on='origin', right_on='faa', suffixes=('_dest', '_origin'))\n",
        "flights_joined = flights_joined.merge(airports, how='left', left_on='dest', right_on='faa', suffixes=('_origin', '_dest'))\n",
        "flights_joined = flights_joined.merge(weather, how='left', left_on=['origin', 'year', 'month', 'day', 'hour'], right_on=['origin', 'year', 'month', 'day', 'hour'], suffixes=('', '_weather'))\n",
        "\n"
      ]
    },
    {
      "cell_type": "markdown",
      "metadata": {},
      "source": [
        "Check the shape of the original `flights` table and the joined table. The joined table should have more columns than the original `flights` table, but the same number of rows."
      ]
    },
    {
      "cell_type": "code",
      "execution_count": null,
      "metadata": {},
      "outputs": [],
      "source": [
        "flights.shape"
      ]
    },
    {
      "cell_type": "code",
      "execution_count": null,
      "metadata": {},
      "outputs": [],
      "source": [
        "flights_joined.shape"
      ]
    },
    {
      "cell_type": "code",
      "execution_count": null,
      "metadata": {},
      "outputs": [],
      "source": [
        "flights_joined.head(20)"
      ]
    },
    {
      "cell_type": "markdown",
      "metadata": {},
      "source": [
        "Use thew `missingno` package to visualize the missing values in the joined table."
      ]
    },
    {
      "cell_type": "code",
      "execution_count": null,
      "metadata": {},
      "outputs": [],
      "source": [
        "msno.bar(flights_joined.sample(100))"
      ]
    },
    {
      "cell_type": "markdown",
      "metadata": {},
      "source": [
        "Export joined data to a CSV file for later use."
      ]
    },
    {
      "cell_type": "code",
      "execution_count": null,
      "metadata": {},
      "outputs": [],
      "source": [
        "flights_joined.to_csv('flights_joined.csv', index=False)"
      ]
    }
  ],
  "metadata": {
    "colab": {
      "provenance": []
    },
    "kernelspec": {
      "display_name": "datavis",
      "language": "python",
      "name": "python3"
    },
    "language_info": {
      "codemirror_mode": {
        "name": "ipython",
        "version": 3
      },
      "file_extension": ".py",
      "mimetype": "text/x-python",
      "name": "python",
      "nbconvert_exporter": "python",
      "pygments_lexer": "ipython3",
      "version": "3.12.9"
    }
  },
  "nbformat": 4,
  "nbformat_minor": 0
}
