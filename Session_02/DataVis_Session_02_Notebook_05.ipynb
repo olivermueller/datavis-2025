{
  "cells": [
    {
      "cell_type": "markdown",
      "metadata": {},
      "source": [
        "# Data Vis: Visualizing Numerical and Categorical Data\n",
        "* Notebook 1: Visualizing Associations"
      ]
    },
    {
      "cell_type": "markdown",
      "metadata": {},
      "source": [
        "## Setup"
      ]
    },
    {
      "cell_type": "code",
      "execution_count": null,
      "metadata": {
        "id": "A2HU3DQvDaBR"
      },
      "outputs": [],
      "source": [
        "import pandas as pd\n",
        "import numpy as np\n",
        "from matplotlib import pyplot as plt\n",
        "import seaborn as sns"
      ]
    },
    {
      "cell_type": "markdown",
      "metadata": {},
      "source": [
        "## Data"
      ]
    },
    {
      "cell_type": "markdown",
      "metadata": {},
      "source": [
        "In this notebook, we will use the NYC Flights 2013 dataset, which contains information about all domestic flights that departed from NYC in 2013. The dataset includes the following tables:\n",
        "- `flights`: Contains information about each flight, including the origin and destination airports, departure and arrival times, and delays.\n",
        "- `planes`: Contains information about the planes, including their tail numbers and model years.\n",
        "- `airports`: Contains information about the airports, including their names and locations.\n",
        "- `airlines`: Contains information about the airlines, including their names and IATA codes.\n",
        "- `weather`: Contains information about the weather at the origin airports, including temperature, wind speed, and precipitation."
      ]
    },
    {
      "cell_type": "code",
      "execution_count": null,
      "metadata": {},
      "outputs": [],
      "source": [
        "data = pd.read_csv('flights_joined.csv')"
      ]
    },
    {
      "cell_type": "code",
      "execution_count": null,
      "metadata": {},
      "outputs": [],
      "source": [
        "data.shape"
      ]
    },
    {
      "cell_type": "code",
      "execution_count": null,
      "metadata": {},
      "outputs": [],
      "source": [
        "data.head()"
      ]
    },
    {
      "cell_type": "markdown",
      "metadata": {},
      "source": [
        "## Scatterplot"
      ]
    },
    {
      "cell_type": "markdown",
      "metadata": {},
      "source": [
        "Scatterplots are the standard way to visualize the relationship between two continuous variables `x` and `y`. In this notebook, we will use the figure-level `relplot()` function with `kind='scatter'` to create scatterplots."
      ]
    },
    {
      "cell_type": "code",
      "execution_count": null,
      "metadata": {},
      "outputs": [],
      "source": [
        "g = sns.relplot(x='distance', y='air_time', alpha=0.5, data=data, kind='scatter')\n",
        "g.fig.suptitle('Air Time vs Distance')\n",
        "g.set_xlabels(\"Distance\")\n",
        "g.set_ylabels(\"Air Time\")\n",
        "plt.show()"
      ]
    },
    {
      "cell_type": "markdown",
      "metadata": {},
      "source": [
        "We can use the `hue` parameter to color the points by a categorical variable."
      ]
    },
    {
      "cell_type": "code",
      "execution_count": null,
      "metadata": {},
      "outputs": [],
      "source": [
        "g = sns.relplot(x='distance', y='air_time', hue='carrier', alpha=0.5, data=data, kind='scatter')\n",
        "g.fig.suptitle('Air Time vs Distance by Carrier')\n",
        "g.set_xlabels(\"Distance\")\n",
        "g.set_ylabels(\"Air Time\")\n",
        "plt.show()"
      ]
    },
    {
      "cell_type": "markdown",
      "metadata": {},
      "source": [
        "Finally, we can add map another numerical variable to the size of the points using the `size` parameter. The `sizes` parameter can be used to control the range of sizes for the points."
      ]
    },
    {
      "cell_type": "code",
      "execution_count": null,
      "metadata": {},
      "outputs": [],
      "source": [
        "g = sns.relplot(x='distance', y='air_time', hue=\"origin\", alpha=0.5,\n",
        "  size=\"dep_delay\", sizes=(1, 100),\n",
        "  data=data, kind='scatter')\n",
        "g.set_xlabels(\"Distance\")\n",
        "g.set_ylabels(\"Air Time\")\n",
        "plt.show()"
      ]
    },
    {
      "cell_type": "markdown",
      "metadata": {},
      "source": [
        "If you want a trend line on your scatterplot, you can use the figure-level `regplot()` function. The required regression analysis is performed automatically, and the regression line is added to the scatterplot. The parameters `line_kws` and `scatter_kws` can be used to control the appearance of the line and points."
      ]
    },
    {
      "cell_type": "code",
      "execution_count": null,
      "metadata": {},
      "outputs": [],
      "source": [
        "sns.regplot(x=\"distance\", y=\"air_time\", data=data,\n",
        "  line_kws={'color':'red'}, scatter_kws={'alpha':0.2})\n",
        "plt.show()"
      ]
    },
    {
      "cell_type": "markdown",
      "metadata": {},
      "source": [
        "All of the above scatterplots suffered from heavy overplotting. To avoid overplotting, we can create a heatmap with two continuous variables as an alternative to a scatterplot."
      ]
    },
    {
      "cell_type": "code",
      "execution_count": null,
      "metadata": {},
      "outputs": [],
      "source": [
        "sns.displot(x=\"distance\", y=\"air_time\", data=data)\n",
        "plt.show()"
      ]
    },
    {
      "cell_type": "markdown",
      "metadata": {},
      "source": [
        "Now it's your turn. Create scatterplots of other continous variables and the dataset."
      ]
    },
    {
      "cell_type": "code",
      "execution_count": null,
      "metadata": {},
      "outputs": [],
      "source": [
        "# YOUR CODE HERE"
      ]
    }
  ],
  "metadata": {
    "colab": {
      "provenance": []
    },
    "kernelspec": {
      "display_name": "datavis",
      "language": "python",
      "name": "python3"
    },
    "language_info": {
      "codemirror_mode": {
        "name": "ipython",
        "version": 3
      },
      "file_extension": ".py",
      "mimetype": "text/x-python",
      "name": "python",
      "nbconvert_exporter": "python",
      "pygments_lexer": "ipython3",
      "version": "3.12.9"
    }
  },
  "nbformat": 4,
  "nbformat_minor": 0
}
