{
  "cells": [
    {
      "cell_type": "markdown",
      "metadata": {},
      "source": [
        "# Data Vis: Visualizing Numerical and Categorical Data\n",
        "* Notebook 1: Visualizing Amounts"
      ]
    },
    {
      "cell_type": "markdown",
      "metadata": {},
      "source": [
        "## Setup"
      ]
    },
    {
      "cell_type": "code",
      "execution_count": null,
      "metadata": {
        "id": "A2HU3DQvDaBR"
      },
      "outputs": [],
      "source": [
        "import pandas as pd\n",
        "import numpy as np\n",
        "from matplotlib import pyplot as plt\n",
        "import seaborn as sns"
      ]
    },
    {
      "cell_type": "markdown",
      "metadata": {},
      "source": [
        "## Data"
      ]
    },
    {
      "cell_type": "markdown",
      "metadata": {},
      "source": [
        "In this notebook, we will use the NYC Flights 2013 dataset, which contains information about all domestic flights that departed from NYC in 2013. The dataset includes the following tables:\n",
        "- `flights`: Contains information about each flight, including the origin and destination airports, departure and arrival times, and delays.\n",
        "- `planes`: Contains information about the planes, including their tail numbers and model years.\n",
        "- `airports`: Contains information about the airports, including their names and locations.\n",
        "- `airlines`: Contains information about the airlines, including their names and IATA codes.\n",
        "- `weather`: Contains information about the weather at the origin airports, including temperature, wind speed, and precipitation."
      ]
    },
    {
      "cell_type": "code",
      "execution_count": null,
      "metadata": {},
      "outputs": [],
      "source": [
        "data = pd.read_csv('flights_joined.csv')"
      ]
    },
    {
      "cell_type": "code",
      "execution_count": null,
      "metadata": {},
      "outputs": [],
      "source": [
        "data.shape"
      ]
    },
    {
      "cell_type": "code",
      "execution_count": null,
      "metadata": {},
      "outputs": [],
      "source": [
        "data.head()"
      ]
    },
    {
      "cell_type": "markdown",
      "metadata": {},
      "source": [
        "## Bar Chart"
      ]
    },
    {
      "cell_type": "markdown",
      "metadata": {},
      "source": [
        "The bar chart is the most common way to visualize counts of categorical data. Here, we will use the figure-level function `catplot()` to create a bar chart of the number of flights by carrier. The `order`parameter is used to specify the order of the bars in the chart (here, by decreasing by counts)."
      ]
    },
    {
      "cell_type": "code",
      "execution_count": null,
      "metadata": {},
      "outputs": [],
      "source": [
        "g = sns.catplot(x='carrier', data=data, kind='count', order=data['carrier'].value_counts().index)\n",
        "g.fig.suptitle(\"Number of flights per airline\")\n",
        "g.set_xlabels(\"Airline\")\n",
        "g.set_ylabels(\"Number of flights\")\n",
        "plt.show()"
      ]
    },
    {
      "cell_type": "markdown",
      "metadata": {},
      "source": [
        "We can create the same plot using the axes-level function `barplot()`, but we will need to use the `groupby()` method to aggregate the data first. So, the `catplot()` function is more convenient for this type of plot, as it automatically handles the aggregation for us."
      ]
    },
    {
      "cell_type": "code",
      "execution_count": null,
      "metadata": {},
      "outputs": [],
      "source": [
        "data_grouped = data.groupby('carrier').size().reset_index(name='count')\n",
        "data_grouped = data_grouped.sort_values(by='count', ascending=False)\n",
        "\n",
        "ax = sns.barplot(x='carrier', y='count', data=data_grouped)\n",
        "ax.set_title(\"Number of flights per airline\")\n",
        "ax.set_xlabel(\"Airline\")\n",
        "ax.set_ylabel(\"Number of flights\")\n",
        "plt.show()"
      ]
    },
    {
      "cell_type": "markdown",
      "metadata": {},
      "source": [
        "Next, we will create a stacked bar chart to show the number of flights by origin airport and airline carrier. We will use the `hue` parameter to specify the carrier, and the `multiple=\"stack\"` parameter to stack the bars for each origin airport. \n",
        "\n",
        "In my opinion, it's a bit confusing that stacked bar charts are created using the `displot()` function, which is usually used for histograms."
      ]
    },
    {
      "cell_type": "code",
      "execution_count": null,
      "metadata": {},
      "outputs": [],
      "source": [
        "g = sns.displot(x=\"origin\", hue=\"carrier\", data=data, kind=\"hist\", multiple=\"stack\")\n",
        "g.fig.suptitle(\"Number of flights per origin and airline\")\n",
        "g.set_xlabels(\"Origin\")\n",
        "g.set_ylabels(\"Number of flights\")\n",
        "plt.show()"
      ]
    },
    {
      "cell_type": "markdown",
      "metadata": {},
      "source": [
        "Similarily, we can create a grouped bar chart to show the number of flights by origin airport and airline carrier, using the `multiple=\"stack\"` parameter to group the bars for each origin airport."
      ]
    },
    {
      "cell_type": "code",
      "execution_count": null,
      "metadata": {},
      "outputs": [],
      "source": [
        "g = sns.displot(x=\"origin\", hue=\"carrier\", data=data, kind=\"hist\", multiple=\"dodge\")\n",
        "g.fig.suptitle(\"Number of flights per origin and airline\")\n",
        "g.set_xlabels(\"Origin\")\n",
        "g.set_ylabels(\"Number of flights\")\n",
        "plt.show()"
      ]
    },
    {
      "cell_type": "markdown",
      "metadata": {},
      "source": [
        "Now it's your turn. Create bar charts, stacked bar charts, and grouped bar charts to show the number of flights by other categorical variables in the dataset..."
      ]
    },
    {
      "cell_type": "code",
      "execution_count": null,
      "metadata": {},
      "outputs": [],
      "source": [
        "# YOUR CODE HERE"
      ]
    },
    {
      "cell_type": "markdown",
      "metadata": {},
      "source": [
        "## Heatmap"
      ]
    },
    {
      "cell_type": "markdown",
      "metadata": {},
      "source": [
        "Heatmaps are another way to visualize counts of categorical data. They are particularly useful for visualizing the relationship between two categorical variables. In this example, we will create a heatmap to show the number of flights by `weekday` and `hour`."
      ]
    },
    {
      "cell_type": "markdown",
      "metadata": {},
      "source": [
        "The variable `weekday`does not exist in the dataset, so we will create it by extracting the day of the week from the `time_hour` variable."
      ]
    },
    {
      "cell_type": "code",
      "execution_count": null,
      "metadata": {},
      "outputs": [],
      "source": [
        "data[\"weekday\"] = pd.to_datetime(data[\"time_hour\"]).dt.day_name()"
      ]
    },
    {
      "cell_type": "markdown",
      "metadata": {},
      "source": [
        "First, we have to aggregate the raw data by `weekday` and `hour` before we can create the heatmap. This can be done with the `pivot_table()` method, which creates a pivot table from the raw data. The `pivot_table()` method takes the following parameters:\n",
        "- `index`: The variable to use for the rows of the pivot table (here, `hour`).\n",
        "- `columns`: The variable to use for the columns of the pivot table (here, `weekday`).\n",
        "- `values`: The variable to use for the values of the pivot table (here, `flight`).\n",
        "- `aggfunc`: The aggregation function to use for the values of the pivot table (here, `count`)."
      ]
    },
    {
      "cell_type": "code",
      "execution_count": null,
      "metadata": {},
      "outputs": [],
      "source": [
        "pivot_table = data.pivot_table(index=\"hour\", columns=\"weekday\", values=\"flight\", aggfunc=\"count\")\n",
        "pivot_table.head(10)"
      ]
    },
    {
      "cell_type": "markdown",
      "metadata": {},
      "source": [
        "The weekdays are not ordered correctly, so we will use the `reindex()` method to get the columns in the right order."
      ]
    },
    {
      "cell_type": "code",
      "execution_count": null,
      "metadata": {},
      "outputs": [],
      "source": [
        "ordered_weekdays = [\"Monday\", \"Tuesday\", \"Wednesday\", \"Thursday\", \"Friday\", \"Saturday\", \"Sunday\"]\n",
        "pivot_table = pivot_table.reindex(columns=ordered_weekdays)\n",
        "pivot_table.head(10)"
      ]
    },
    {
      "cell_type": "markdown",
      "metadata": {},
      "source": [
        "Note that there are `NaN` values in the pivot table. There are also missing rows for hours with no flights. Let's fix these issues."
      ]
    },
    {
      "cell_type": "code",
      "execution_count": null,
      "metadata": {},
      "outputs": [],
      "source": [
        "for hour in range(24):\n",
        "    if hour not in pivot_table.index:\n",
        "        pivot_table.loc[hour] = 0\n",
        "        \n",
        "pivot_table = pivot_table.fillna(0)\n",
        "pivot_table = pivot_table.sort_index()\n",
        "\n",
        "pivot_table.head(10)"
      ]
    },
    {
      "cell_type": "markdown",
      "metadata": {},
      "source": [
        "Finally, we are reday to create the heatmap. We will use the `heatmap()` function to create the heatmap. The `cmap`, `linewidths`, and `linecolor` parameters, amongst others, can be used to customize the appearance of the heatmap. See https://seaborn.pydata.org/generated/seaborn.heatmap.html for more details."
      ]
    },
    {
      "cell_type": "code",
      "execution_count": null,
      "metadata": {},
      "outputs": [],
      "source": [
        "fig = plt.figure(figsize=(9, 6))\n",
        "ax = sns.heatmap(data=pivot_table, cmap='viridis', linewidths=0.1, linecolor='white')\n",
        "plt.yticks(rotation=0)\n",
        "plt.show()"
      ]
    },
    {
      "cell_type": "markdown",
      "metadata": {},
      "source": [
        "Now it's your turn. Create a heatmap using other categorical variables in the dataset..."
      ]
    },
    {
      "cell_type": "code",
      "execution_count": null,
      "metadata": {},
      "outputs": [],
      "source": [
        "# YOUR CODE HERE"
      ]
    }
  ],
  "metadata": {
    "colab": {
      "provenance": []
    },
    "kernelspec": {
      "display_name": "datavis",
      "language": "python",
      "name": "python3"
    },
    "language_info": {
      "codemirror_mode": {
        "name": "ipython",
        "version": 3
      },
      "file_extension": ".py",
      "mimetype": "text/x-python",
      "name": "python",
      "nbconvert_exporter": "python",
      "pygments_lexer": "ipython3",
      "version": "3.12.9"
    }
  },
  "nbformat": 4,
  "nbformat_minor": 0
}
