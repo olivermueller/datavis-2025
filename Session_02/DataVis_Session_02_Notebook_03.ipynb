{
  "cells": [
    {
      "cell_type": "markdown",
      "metadata": {},
      "source": [
        "# Data Vis: Visualizing Numerical and Categorical Data\n",
        "* Notebook 1: Visualizing Distributions"
      ]
    },
    {
      "cell_type": "markdown",
      "metadata": {},
      "source": [
        "## Setup"
      ]
    },
    {
      "cell_type": "code",
      "execution_count": null,
      "metadata": {
        "id": "A2HU3DQvDaBR"
      },
      "outputs": [],
      "source": [
        "import pandas as pd\n",
        "import numpy as np\n",
        "from matplotlib import pyplot as plt\n",
        "import seaborn as sns"
      ]
    },
    {
      "cell_type": "markdown",
      "metadata": {},
      "source": [
        "## Data"
      ]
    },
    {
      "cell_type": "markdown",
      "metadata": {},
      "source": [
        "In this notebook, we will use the NYC Flights 2013 dataset, which contains information about all domestic flights that departed from NYC in 2013. The dataset includes the following tables:\n",
        "- `flights`: Contains information about each flight, including the origin and destination airports, departure and arrival times, and delays.\n",
        "- `planes`: Contains information about the planes, including their tail numbers and model years.\n",
        "- `airports`: Contains information about the airports, including their names and locations.\n",
        "- `airlines`: Contains information about the airlines, including their names and IATA codes.\n",
        "- `weather`: Contains information about the weather at the origin airports, including temperature, wind speed, and precipitation."
      ]
    },
    {
      "cell_type": "code",
      "execution_count": null,
      "metadata": {},
      "outputs": [],
      "source": [
        "data = pd.read_csv('flights_joined.csv')"
      ]
    },
    {
      "cell_type": "code",
      "execution_count": null,
      "metadata": {},
      "outputs": [],
      "source": [
        "data.shape"
      ]
    },
    {
      "cell_type": "code",
      "execution_count": null,
      "metadata": {},
      "outputs": [],
      "source": [
        "data.head()"
      ]
    },
    {
      "cell_type": "markdown",
      "metadata": {},
      "source": [
        "## Histograms and Alternatives"
      ]
    },
    {
      "cell_type": "markdown",
      "metadata": {},
      "source": [
        "Histograms are the most common way to visualize the distribution of a single numerical variable. They are useful for understanding the shape of the distribution, identifying outliers, and comparing distributions across different groups. We can use the figure-level function `displot()` to create a histogram. This function automatically creates a figure and axes for us, so we don't need to worry about creating them ourselves. The most crucial parameter is `bins`, which specifies the number of bins to use for the histogram.\n",
        "\n",
        "Alternatively, we could use the axes-level function `histplot()` to create a histogram. This function requires us to create the figure and axes ourselves, but it gives us more control over the appearance of the plot."
      ]
    },
    {
      "cell_type": "code",
      "execution_count": null,
      "metadata": {},
      "outputs": [],
      "source": [
        "ax = sns.displot(data['distance'], kind=\"hist\", bins=10)\n",
        "ax.set(title='Distance Distribution', xlabel='Distance', ylabel='Frequency') # creating labels in one line!\n",
        "plt.show()"
      ]
    },
    {
      "cell_type": "markdown",
      "metadata": {},
      "source": [
        "We could also visualize the same distribution using a denisty plot by specifying `kind=\"kde\"` in the `displot()` function."
      ]
    },
    {
      "cell_type": "code",
      "execution_count": null,
      "metadata": {},
      "outputs": [],
      "source": [
        "ax = sns.displot(data['distance'], kind=\"kde\", fill=True)\n",
        "ax.set(title='Distance Distribution', xlabel='Distance', ylabel='Density')\n",
        "plt.show()"
      ]
    },
    {
      "cell_type": "markdown",
      "metadata": {},
      "source": [
        "Histograms and density plots can be nicely arrange in small multiples by using the `FacetGrid` class. This allows us to compare the distributions of different groups in the dataset side by side. We can use the `col` parameter to specify the variable we want to use for the columns, and the `row` parameter to specify the variable we want to use for the rows.\n",
        "\n",
        "To create small multiples, we first create a `FacetGrid` object by passing the data and the variables we want to use for the rows and columns. Then, we can use the `map()` method to apply a function to each facet. In this case, we will use the `kdeplot()` function to create a density plot for each facet."
      ]
    },
    {
      "cell_type": "code",
      "execution_count": null,
      "metadata": {},
      "outputs": [],
      "source": [
        "g = sns.FacetGrid(data, col=\"month\", row=\"origin\")\n",
        "g.map(sns.kdeplot, \"distance\", fill=True)\n",
        "plt.show()"
      ]
    },
    {
      "cell_type": "markdown",
      "metadata": {},
      "source": [
        "Finally, we can also visualize the cumulative distribution function (CDF) using the `kind=\"ecdf\"` parameter in the `displot()` function. The CDF is useful for understanding the proportion of data points that fall below a certain value."
      ]
    },
    {
      "cell_type": "code",
      "execution_count": null,
      "metadata": {},
      "outputs": [],
      "source": [
        "ax = sns.displot(data['distance'], kind=\"ecdf\")\n",
        "ax.set(title='Cumulative Distribution of Distance', xlabel='Distance', ylabel='Proportion')\n",
        "plt.show()"
      ]
    },
    {
      "cell_type": "markdown",
      "metadata": {},
      "source": [
        "Now it's your turn. Create historgams, density plots and cumulative distribution functions for other numerical variables in the dataset..."
      ]
    },
    {
      "cell_type": "code",
      "execution_count": null,
      "metadata": {},
      "outputs": [],
      "source": [
        "# YOUR CODE HERE"
      ]
    },
    {
      "cell_type": "markdown",
      "metadata": {},
      "source": [
        "## Box Plots and and Alternatives"
      ]
    },
    {
      "cell_type": "markdown",
      "metadata": {},
      "source": [
        "I am a big fan of box plots to visualize distributions. Box plots show the median, quartiles, and outliers of the data in a compact way, making it easy to compare distributions across different groups. They are a great way to visualize the distribution of a numerical variable across different groups. \n",
        "\n",
        "Here, we will use the axes-level function `boxplot()` to create a box plot. This function gives you more control over the appearance of the plot."
      ]
    },
    {
      "cell_type": "code",
      "execution_count": null,
      "metadata": {},
      "outputs": [],
      "source": [
        "ax = sns.boxplot(y=data[\"distance\"])\n",
        "ax.set(title='Boxplot of Distance', ylabel='Distance')\n",
        "plt.show()"
      ]
    },
    {
      "cell_type": "markdown",
      "metadata": {},
      "source": [
        "You can easily create box plots per group by using the `y` parameter. "
      ]
    },
    {
      "cell_type": "code",
      "execution_count": null,
      "metadata": {},
      "outputs": [],
      "source": [
        "ax = sns.boxplot(x=data[\"origin\"], y=data[\"distance\"])\n",
        "ax.set(title='Boxplot of Distance by Origin', xlabel='Origin', ylabel='Distance')\n",
        "plt.show()"
      ]
    },
    {
      "cell_type": "markdown",
      "metadata": {},
      "source": [
        "The box of a box plot can hide interesting information about the distribution of the data. For example, if the data is not normally distributed, the box plot may not accurately represent the distribution. In such cases, it may be more informative to use a violin plot using `violinplot()`, which shows the kernel density estimate of the data along with the box plot."
      ]
    },
    {
      "cell_type": "code",
      "execution_count": null,
      "metadata": {},
      "outputs": [],
      "source": [
        "ax = sns.violinplot(x=data[\"origin\"], y=data[\"distance\"])\n",
        "ax.set(title='Violin Plot of Distance by Origin', xlabel='Origin', ylabel='Distance')\n",
        "plt.show()"
      ]
    },
    {
      "cell_type": "markdown",
      "metadata": {},
      "source": [
        "Another drawback of box plots is that they are hidding how many data points are in each group. To visualize the distribution of the data points, we can use the `swarmplot()` function instead. Yet, these plots can be crowded when there are many data points (note that we are randomly sampling 300 data points in this example)."
      ]
    },
    {
      "cell_type": "code",
      "execution_count": null,
      "metadata": {},
      "outputs": [],
      "source": [
        "sns.swarmplot(x=\"origin\", y=\"distance\", data=data.sample(300), size=3)\n",
        "plt.title(\"Swarm Plot of Distance by Origin\")\n",
        "plt.xlabel(\"Distance\")\n",
        "plt.ylabel(\"Frequency\")\n",
        "plt.show()"
      ]
    },
    {
      "cell_type": "markdown",
      "metadata": {},
      "source": [
        "Now it's your turn. Create box plots, violin plots and swarm plots for other numerical variables in the dataset..."
      ]
    },
    {
      "cell_type": "code",
      "execution_count": null,
      "metadata": {},
      "outputs": [],
      "source": [
        "# YOUR CODE HERE"
      ]
    }
  ],
  "metadata": {
    "colab": {
      "provenance": []
    },
    "kernelspec": {
      "display_name": "datavis",
      "language": "python",
      "name": "python3"
    },
    "language_info": {
      "codemirror_mode": {
        "name": "ipython",
        "version": 3
      },
      "file_extension": ".py",
      "mimetype": "text/x-python",
      "name": "python",
      "nbconvert_exporter": "python",
      "pygments_lexer": "ipython3",
      "version": "3.12.9"
    }
  },
  "nbformat": 4,
  "nbformat_minor": 0
}
