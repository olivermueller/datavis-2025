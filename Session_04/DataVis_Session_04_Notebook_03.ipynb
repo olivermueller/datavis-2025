{
 "cells": [
  {
   "cell_type": "markdown",
   "id": "4e242888",
   "metadata": {},
   "source": [
    "# Data Vis: Data Maps\n",
    "* Notebook 3: Choropleth Maps"
   ]
  },
  {
   "cell_type": "markdown",
   "id": "d3e573a5",
   "metadata": {},
   "source": [
    "## Setup"
   ]
  },
  {
   "cell_type": "code",
   "execution_count": null,
   "id": "b5c9a7e5",
   "metadata": {},
   "outputs": [],
   "source": [
    "import pandas as pd\n",
    "import matplotlib.pyplot as plt\n",
    "import folium\n",
    "import geopandas as gpd"
   ]
  },
  {
   "cell_type": "markdown",
   "id": "f2a6e815",
   "metadata": {},
   "source": [
    "## Shape of Berlin"
   ]
  },
  {
   "cell_type": "markdown",
   "id": "5f9cbe18",
   "metadata": {},
   "source": [
    "A choropleth map is a map where areas are shaded in proportion to the value of a variable being represented. Choropleth maps are often used to visualize data that is aggregated by geographic regions, such as countries, states, or neighborhoods. In this notebook, we will create a choropleth map using the `folium` and `geopandas` libraries and a `GeoJSON` shapefile of Berlin neighborhoods.\n",
    "\n",
    "Let's start by loading the GeoJSON shapefile of Berlin neighborhoods and displaying the first few rows of the data. We will also use the `plot()` function from `geopandas`, which internally uses `matplotlib`, to plot the shapes of Berlin's neighborhoods.\n"
   ]
  },
  {
   "cell_type": "code",
   "execution_count": null,
   "id": "a4b3b340",
   "metadata": {},
   "outputs": [],
   "source": [
    "gdf = gpd.read_file('data/neighbourhoods_berlin.geojson')"
   ]
  },
  {
   "cell_type": "code",
   "execution_count": null,
   "id": "42c2b9e7",
   "metadata": {},
   "outputs": [],
   "source": [
    "gdf.head()"
   ]
  },
  {
   "cell_type": "code",
   "execution_count": null,
   "id": "7cbeb64d",
   "metadata": {},
   "outputs": [],
   "source": [
    "gdf.plot()\n",
    "plt.show()"
   ]
  },
  {
   "cell_type": "markdown",
   "id": "85898a7d",
   "metadata": {},
   "source": [
    "## Airbnb Listings"
   ]
  },
  {
   "cell_type": "markdown",
   "id": "4e5d52b3",
   "metadata": {},
   "source": [
    "Next, we will load the Airbnb listings data. The dataset contains multiples listings per neighborhood, so we have to group and aggregate it to the neighborhood level."
   ]
  },
  {
   "cell_type": "code",
   "execution_count": null,
   "id": "9f3fc52e",
   "metadata": {},
   "outputs": [],
   "source": [
    "listings = pd.read_csv('data/listings_berlin.csv')"
   ]
  },
  {
   "cell_type": "code",
   "execution_count": null,
   "id": "558b477c",
   "metadata": {},
   "outputs": [],
   "source": [
    "listings.head()"
   ]
  },
  {
   "cell_type": "code",
   "execution_count": null,
   "id": "ed37016f",
   "metadata": {},
   "outputs": [],
   "source": [
    "listings_by_hood = listings.groupby('neighbourhood').aggregate(\n",
    "    {\n",
    "        'id': 'count',\n",
    "        'price': 'mean',\n",
    "        'number_of_reviews': 'sum',\n",
    "    }\n",
    ").reset_index().rename(columns={'id': 'number of listings'})"
   ]
  },
  {
   "cell_type": "code",
   "execution_count": null,
   "id": "19171ce9",
   "metadata": {},
   "outputs": [],
   "source": [
    "listings_by_hood.head()"
   ]
  },
  {
   "cell_type": "markdown",
   "id": "43cee69e",
   "metadata": {},
   "source": [
    "## Choropleth Map with GeoPandas"
   ]
  },
  {
   "cell_type": "markdown",
   "id": "fce42bd3",
   "metadata": {},
   "source": [
    "Now we are almost ready to create the choropleth map. We just need to join the two datasets: the Airbnb listings data and the GeoJSON shapefile of Berlin neighborhoods."
   ]
  },
  {
   "cell_type": "code",
   "execution_count": null,
   "id": "501a65d8",
   "metadata": {},
   "outputs": [],
   "source": [
    "gdf_w_data = gdf.merge(listings_by_hood, on='neighbourhood')"
   ]
  },
  {
   "cell_type": "markdown",
   "id": "06e2ff70",
   "metadata": {},
   "source": [
    "Then we can use the `plot()` function from `geopandas` to create the choropleth map."
   ]
  },
  {
   "cell_type": "code",
   "execution_count": null,
   "id": "aac6152f",
   "metadata": {},
   "outputs": [],
   "source": [
    "gdf_w_data.plot(column='number of listings', legend=True).set_axis_off()"
   ]
  },
  {
   "cell_type": "markdown",
   "id": "089ac0c9",
   "metadata": {},
   "source": [
    "## Choropleth Map with Folium"
   ]
  },
  {
   "cell_type": "markdown",
   "id": "384c784b",
   "metadata": {},
   "source": [
    "The choropleth map above only shows the polygons of Berlin's neighborhoods, but no tiles or other map elements. To create a more illustrative map, we can use the `Choropleth` class from the `folium` library. This class allows us to create a choropleth map on top of a base map with tiles and other map elements.\n",
    "\n",
    "To style the choropleth map, we set a color scale and make the filled poygons semi-transparent. We also turn zooming and panning off, so that the map is static.\n"
   ]
  },
  {
   "cell_type": "code",
   "execution_count": null,
   "id": "d1a1be9b",
   "metadata": {},
   "outputs": [],
   "source": [
    "m = folium.Map(\n",
    "    location=[52.51626496858416, 13.377448787395968],\n",
    "    zoom_start=10,\n",
    "    zoom_control=False,\n",
    "    scrollWheelZoom=False,\n",
    "    dragging=False\n",
    ")\n",
    "\n",
    "folium.Choropleth(\n",
    "    geo_data=gdf_w_data,\n",
    "    data=gdf_w_data,\n",
    "    columns=[\"neighbourhood\", \"number of listings\"],\n",
    "    key_on=\"feature.properties.neighbourhood\",\n",
    "    fill_color=\"viridis\",\n",
    "    fill_opacity=0.5,\n",
    ").add_to(m)\n",
    "\n",
    "m"
   ]
  },
  {
   "cell_type": "markdown",
   "id": "412280bd",
   "metadata": {},
   "source": [
    "## Your Turn"
   ]
  },
  {
   "cell_type": "markdown",
   "id": "971a7a55",
   "metadata": {},
   "source": [
    "Now it is your turn to play around with choropleth maps! \n",
    "\n",
    "Specifically, your task is the following:\n",
    "1. Create an empty map of NYC neighborhoods using the `geopandas` or `folium` library. There is a GeoJSON shapefile of NYC neighborhoods available in the `data` folder.\n",
    "2. Load the NYC Airbnb listings from the last notebook and aggregate them to the neighborhood level.\n",
    "3. Create a choropleth map using a quantitative variable of your choice describing Airbnb apartments in NYC neighborhoods using the `geopandas` or `folium` library."
   ]
  }
 ],
 "metadata": {
  "kernelspec": {
   "display_name": "datavis",
   "language": "python",
   "name": "python3"
  },
  "language_info": {
   "codemirror_mode": {
    "name": "ipython",
    "version": 3
   },
   "file_extension": ".py",
   "mimetype": "text/x-python",
   "name": "python",
   "nbconvert_exporter": "python",
   "pygments_lexer": "ipython3",
   "version": "3.12.9"
  }
 },
 "nbformat": 4,
 "nbformat_minor": 5
}
