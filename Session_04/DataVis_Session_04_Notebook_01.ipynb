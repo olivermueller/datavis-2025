{
 "cells": [
  {
   "cell_type": "markdown",
   "id": "4e242888",
   "metadata": {},
   "source": [
    "# Data Vis: Data Maps\n",
    "* Notebook 1: Drawing Maps and Plotting Data on Them"
   ]
  },
  {
   "cell_type": "markdown",
   "id": "d3e573a5",
   "metadata": {},
   "source": [
    "## Setup"
   ]
  },
  {
   "cell_type": "code",
   "execution_count": null,
   "id": "b5c9a7e5",
   "metadata": {},
   "outputs": [],
   "source": [
    "import pandas as pd\n",
    "import folium"
   ]
  },
  {
   "cell_type": "markdown",
   "id": "b6a74b43",
   "metadata": {},
   "source": [
    "## Drawing an Empty Map"
   ]
  },
  {
   "cell_type": "markdown",
   "id": "50d9a42c",
   "metadata": {},
   "source": [
    "We will start by drawing an empty map of Berlin. We will use the `Folium` library to do this. Folium is a Python library that makes it easy to visualize data that’s been manipulated in Python on an interactive map. It is built on the Leaflet JavaScript library, which is one of the most popular libraries for interactive maps.\n",
    "\n",
    "To draw a map, we need to specify the location and zoom level. The location is specified by latitude and longitude coordinates, and the zoom level is an integer that specifies how far we want to zoom in on the map. A zoom level of 10 means we are zoomed out to see a large area, while a zoom level of 20 means we are zoomed in to see a small area.\n",
    "\n",
    "```bash"
   ]
  },
  {
   "cell_type": "code",
   "execution_count": null,
   "id": "c3b69b3c",
   "metadata": {},
   "outputs": [],
   "source": [
    "m = folium.Map(\n",
    "    location=(52.51626496858416, 13.377448787395968),\n",
    "    zoom_start=15)\n",
    "\n",
    "m"
   ]
  },
  {
   "cell_type": "markdown",
   "id": "533e5464",
   "metadata": {},
   "source": [
    "## Changing the Map Tiles"
   ]
  },
  {
   "cell_type": "markdown",
   "id": "0a1207cb",
   "metadata": {},
   "source": [
    "By default, Folium uses OpenStreetMap tiles to draw the map. However, we can change the map tiles to use different tile providers. Folium supports several tile providers, including Stamen and Mapbox, out of the box. But we can also use all tile providers supported by Leaflet. You can find a list of all tile providers [here](https://leaflet-extras.github.io/leaflet-providers/preview/).\n"
   ]
  },
  {
   "cell_type": "code",
   "execution_count": null,
   "id": "28cb710e",
   "metadata": {},
   "outputs": [],
   "source": [
    "m = folium.Map(\n",
    "    location=(52.51626496858416, 13.377448787395968),\n",
    "    zoom_start=15,\n",
    "    tiles='https://{s}.tile.opentopomap.org/{z}/{x}/{y}.png',\n",
    "    attr='OpenTopoMap'\n",
    ")\n",
    "\n",
    "m"
   ]
  },
  {
   "cell_type": "markdown",
   "id": "9fd34c89",
   "metadata": {},
   "source": [
    "## Plotting Points on the Map"
   ]
  },
  {
   "cell_type": "markdown",
   "id": "a3abdc1a",
   "metadata": {},
   "source": [
    "Let's start to actually draw on the map by providing some data. We will begin by adding points, defined by their latitude and longitude coordinates. Markers can be enriched with icons, popups, tooltips and other information. We simply create a `Marker` object and then add it to the map."
   ]
  },
  {
   "cell_type": "code",
   "execution_count": null,
   "id": "f8183ee2",
   "metadata": {},
   "outputs": [],
   "source": [
    "m = folium.Map(\n",
    "    location=(52.518361185274614, 13.359599085472585),\n",
    "    zoom_start=14,\n",
    "    tiles='https://{s}.tile.opentopomap.org/{z}/{x}/{y}.png',\n",
    "    attr='OpenTopoMap'\n",
    ")\n",
    "\n",
    "folium.Marker(\n",
    "    location=[52.51626496858416, 13.377448787395968],\n",
    "    popup=\"Brandenburger Tor\",\n",
    "    icon=folium.Icon(color=\"red\"),\n",
    ").add_to(m)\n",
    "\n",
    "folium.Marker(\n",
    "    location=[52.51461940212162, 13.350239325281784],\n",
    "    popup=\"Siegessäule\",\n",
    "    icon=folium.Icon(color=\"red\"),\n",
    ").add_to(m)\n",
    "\n",
    "folium.Marker(\n",
    "    location=[52.52415952449152, 13.370092571212059],\n",
    "    popup=\"HBF\",\n",
    "    icon=folium.Icon(color=\"blue\"),\n",
    ").add_to(m)\n",
    "\n",
    "m"
   ]
  },
  {
   "cell_type": "markdown",
   "id": "f2588d6a",
   "metadata": {},
   "source": [
    "## Plotting Lines on the Map"
   ]
  },
  {
   "cell_type": "markdown",
   "id": "1e592479",
   "metadata": {},
   "source": [
    "Similarily, we can plot lines on the map. We will use the `PolyLine` class to do this. A polyline is a series of connected line segments. We can specify the color, weight and opacity of the line. We can also add popups and tooltips to the line."
   ]
  },
  {
   "cell_type": "code",
   "execution_count": null,
   "id": "838122eb",
   "metadata": {},
   "outputs": [],
   "source": [
    "line1_segments = [(52.51626496858416, 13.377448787395968),\n",
    "                  (52.51461940212162, 13.350239325281784)]\n",
    "\n",
    "line2_segments = [(52.52415952449152, 13.370092571212059),\n",
    "                  (52.51461940212162, 13.350239325281784)]\n",
    "\n",
    "line3_segments = [(52.52415952449152, 13.370092571212059),\n",
    "                  (52.51626496858416, 13.377448787395968)]\n",
    "\n",
    "folium.PolyLine(line1_segments, color=\"blue\").add_to(m)\n",
    "folium.PolyLine(line2_segments, color=\"blue\").add_to(m)\n",
    "folium.PolyLine(line3_segments, color=\"blue\").add_to(m)\n",
    "\n",
    "m"
   ]
  },
  {
   "cell_type": "markdown",
   "id": "5c8a9517",
   "metadata": {},
   "source": [
    "## Your Turn"
   ]
  },
  {
   "cell_type": "markdown",
   "id": "dabd7717",
   "metadata": {},
   "source": [
    "Now it is your turn to play around with maps in Folium (https://python-visualization.github.io/folium/). \n",
    "\n",
    "Concreteley, you can try to:\n",
    "1) Draw an empty map of your hometown or any other city (e.g., New York City)\n",
    "2) Change the map tiles to use a different tile provider\n",
    "3) Add markers of different types to the map (e.g., points of interest, public transport, restaurants, your home, etc.)\n",
    "4) Connect the markers with lines"
   ]
  }
 ],
 "metadata": {
  "kernelspec": {
   "display_name": "datavis",
   "language": "python",
   "name": "python3"
  },
  "language_info": {
   "codemirror_mode": {
    "name": "ipython",
    "version": 3
   },
   "file_extension": ".py",
   "mimetype": "text/x-python",
   "name": "python",
   "nbconvert_exporter": "python",
   "pygments_lexer": "ipython3",
   "version": "3.12.9"
  }
 },
 "nbformat": 4,
 "nbformat_minor": 5
}
