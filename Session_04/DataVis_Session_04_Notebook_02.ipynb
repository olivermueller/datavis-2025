{
 "cells": [
  {
   "cell_type": "markdown",
   "id": "4e242888",
   "metadata": {},
   "source": [
    "# Data Vis: Data Maps\n",
    "* Notebook 2: Heatmaps"
   ]
  },
  {
   "cell_type": "markdown",
   "id": "d3e573a5",
   "metadata": {},
   "source": [
    "## Setup"
   ]
  },
  {
   "cell_type": "code",
   "execution_count": null,
   "id": "b5c9a7e5",
   "metadata": {},
   "outputs": [],
   "source": [
    "import pandas as pd\n",
    "import folium\n",
    "from folium.plugins import HeatMap"
   ]
  },
  {
   "cell_type": "markdown",
   "id": "3c3c262c",
   "metadata": {},
   "source": [
    "## Data"
   ]
  },
  {
   "cell_type": "markdown",
   "id": "910e4af4",
   "metadata": {},
   "source": [
    "In this notebook, we will create a heatmap with the `folium` library. To create a heatmap, we need to some data with geospatial information. We will use data from the **Inside Airbnb** project (https://insideairbnb.com/), which provides data on Airbnb listings in various cities around the world. The CSV file `listings_berlin.csv` contains information about Airbnb listings in Berlin."
   ]
  },
  {
   "cell_type": "code",
   "execution_count": null,
   "id": "1927fb25",
   "metadata": {},
   "outputs": [],
   "source": [
    "listings = pd.read_csv(\"data/listings_berlin.csv\")"
   ]
  },
  {
   "cell_type": "code",
   "execution_count": null,
   "id": "e2bd47ed",
   "metadata": {},
   "outputs": [],
   "source": [
    "listings.head()"
   ]
  },
  {
   "cell_type": "code",
   "execution_count": null,
   "id": "f1a4c5e3",
   "metadata": {},
   "outputs": [],
   "source": [
    "listings[\"neighbourhood_group\"].value_counts()"
   ]
  },
  {
   "cell_type": "markdown",
   "id": "b6a74b43",
   "metadata": {},
   "source": [
    "## Heatmap"
   ]
  },
  {
   "cell_type": "markdown",
   "id": "92c1d7cb",
   "metadata": {},
   "source": [
    "We can create a heatmap by first creating an empty map and then adding a heatmap layer to it. The heatmap layer will be created using the `latitude` and `longitude` coordinates of the Airbnb listings. The `HeatMap` class is used to create the heatmap layer."
   ]
  },
  {
   "cell_type": "code",
   "execution_count": null,
   "id": "c3b69b3c",
   "metadata": {},
   "outputs": [],
   "source": [
    "m = folium.Map(\n",
    "    location=(52.51626496858416, 13.377448787395968),\n",
    "    zoom_start=12)\n",
    "\n",
    "HeatMap(listings[[\"latitude\", \"longitude\"]].to_numpy(), min_opacity=0.01).add_to(m)\n",
    "\n",
    "m"
   ]
  },
  {
   "cell_type": "markdown",
   "id": "412280bd",
   "metadata": {},
   "source": [
    "## Your Turn"
   ]
  },
  {
   "cell_type": "markdown",
   "id": "bdd55010",
   "metadata": {},
   "source": [
    "Now it is your turn to play around with heatmaps in `folium`. Your task is to create a heatmap of the Airbnb listings in NYC. You can use the `listings_nyc.csv` file, located in the data folder, which has the same structure and similar contents as the Berlin file."
   ]
  }
 ],
 "metadata": {
  "kernelspec": {
   "display_name": "datavis",
   "language": "python",
   "name": "python3"
  },
  "language_info": {
   "codemirror_mode": {
    "name": "ipython",
    "version": 3
   },
   "file_extension": ".py",
   "mimetype": "text/x-python",
   "name": "python",
   "nbconvert_exporter": "python",
   "pygments_lexer": "ipython3",
   "version": "3.12.9"
  }
 },
 "nbformat": 4,
 "nbformat_minor": 5
}
